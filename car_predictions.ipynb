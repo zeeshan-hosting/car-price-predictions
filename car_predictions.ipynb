{
  "nbformat": 4,
  "nbformat_minor": 0,
  "metadata": {
    "colab": {
      "name": "Untitled0.ipynb",
      "provenance": [],
      "collapsed_sections": []
    },
    "kernelspec": {
      "name": "python3",
      "display_name": "Python 3"
    },
    "language_info": {
      "name": "python"
    }
  },
  "cells": [
    {
      "cell_type": "code",
      "metadata": {
        "id": "5LS95AF3KQG4"
      },
      "source": [
        "##car price prediction"
      ],
      "execution_count": 38,
      "outputs": []
    },
    {
      "cell_type": "code",
      "metadata": {
        "id": "rKQUr9_7IeO1"
      },
      "source": [
        "import pandas as pd \n",
        "import matplotlib.pyplot as plt\n",
        "import numpy as np\n",
        "import seaborn as sns"
      ],
      "execution_count": 70,
      "outputs": []
    },
    {
      "cell_type": "code",
      "metadata": {
        "id": "yZ4PoeTNKHxD"
      },
      "source": [
        "car=pd.read_csv(\"/content/drive/MyDrive/car data.csv\")"
      ],
      "execution_count": 40,
      "outputs": []
    },
    {
      "cell_type": "code",
      "metadata": {
        "colab": {
          "base_uri": "https://localhost:8080/",
          "height": 195
        },
        "id": "vrPCFqrKKLAC",
        "outputId": "5a15c5cd-eca7-4e54-b9ff-520bf97c0705"
      },
      "source": [
        "car.head()"
      ],
      "execution_count": 41,
      "outputs": [
        {
          "output_type": "execute_result",
          "data": {
            "text/html": [
              "<div>\n",
              "<style scoped>\n",
              "    .dataframe tbody tr th:only-of-type {\n",
              "        vertical-align: middle;\n",
              "    }\n",
              "\n",
              "    .dataframe tbody tr th {\n",
              "        vertical-align: top;\n",
              "    }\n",
              "\n",
              "    .dataframe thead th {\n",
              "        text-align: right;\n",
              "    }\n",
              "</style>\n",
              "<table border=\"1\" class=\"dataframe\">\n",
              "  <thead>\n",
              "    <tr style=\"text-align: right;\">\n",
              "      <th></th>\n",
              "      <th>Car_Name</th>\n",
              "      <th>Year</th>\n",
              "      <th>Selling_Price</th>\n",
              "      <th>Present_Price</th>\n",
              "      <th>Kms_Driven</th>\n",
              "      <th>Fuel_Type</th>\n",
              "      <th>Seller_Type</th>\n",
              "      <th>Transmission</th>\n",
              "      <th>Owner</th>\n",
              "    </tr>\n",
              "  </thead>\n",
              "  <tbody>\n",
              "    <tr>\n",
              "      <th>0</th>\n",
              "      <td>ritz</td>\n",
              "      <td>2014</td>\n",
              "      <td>3.35</td>\n",
              "      <td>5.59</td>\n",
              "      <td>27000</td>\n",
              "      <td>Petrol</td>\n",
              "      <td>Dealer</td>\n",
              "      <td>Manual</td>\n",
              "      <td>0</td>\n",
              "    </tr>\n",
              "    <tr>\n",
              "      <th>1</th>\n",
              "      <td>sx4</td>\n",
              "      <td>2013</td>\n",
              "      <td>4.75</td>\n",
              "      <td>9.54</td>\n",
              "      <td>43000</td>\n",
              "      <td>Diesel</td>\n",
              "      <td>Dealer</td>\n",
              "      <td>Manual</td>\n",
              "      <td>0</td>\n",
              "    </tr>\n",
              "    <tr>\n",
              "      <th>2</th>\n",
              "      <td>ciaz</td>\n",
              "      <td>2017</td>\n",
              "      <td>7.25</td>\n",
              "      <td>9.85</td>\n",
              "      <td>6900</td>\n",
              "      <td>Petrol</td>\n",
              "      <td>Dealer</td>\n",
              "      <td>Manual</td>\n",
              "      <td>0</td>\n",
              "    </tr>\n",
              "    <tr>\n",
              "      <th>3</th>\n",
              "      <td>wagon r</td>\n",
              "      <td>2011</td>\n",
              "      <td>2.85</td>\n",
              "      <td>4.15</td>\n",
              "      <td>5200</td>\n",
              "      <td>Petrol</td>\n",
              "      <td>Dealer</td>\n",
              "      <td>Manual</td>\n",
              "      <td>0</td>\n",
              "    </tr>\n",
              "    <tr>\n",
              "      <th>4</th>\n",
              "      <td>swift</td>\n",
              "      <td>2014</td>\n",
              "      <td>4.60</td>\n",
              "      <td>6.87</td>\n",
              "      <td>42450</td>\n",
              "      <td>Diesel</td>\n",
              "      <td>Dealer</td>\n",
              "      <td>Manual</td>\n",
              "      <td>0</td>\n",
              "    </tr>\n",
              "  </tbody>\n",
              "</table>\n",
              "</div>"
            ],
            "text/plain": [
              "  Car_Name  Year  Selling_Price  ...  Seller_Type  Transmission Owner\n",
              "0     ritz  2014           3.35  ...       Dealer        Manual     0\n",
              "1      sx4  2013           4.75  ...       Dealer        Manual     0\n",
              "2     ciaz  2017           7.25  ...       Dealer        Manual     0\n",
              "3  wagon r  2011           2.85  ...       Dealer        Manual     0\n",
              "4    swift  2014           4.60  ...       Dealer        Manual     0\n",
              "\n",
              "[5 rows x 9 columns]"
            ]
          },
          "metadata": {
            "tags": []
          },
          "execution_count": 41
        }
      ]
    },
    {
      "cell_type": "code",
      "metadata": {
        "colab": {
          "base_uri": "https://localhost:8080/"
        },
        "id": "-nCORE8HMmQa",
        "outputId": "5f8213f9-6e40-4870-f561-441900f8c0c6"
      },
      "source": [
        "car.shape        ### checking number of rows and columns"
      ],
      "execution_count": 42,
      "outputs": [
        {
          "output_type": "execute_result",
          "data": {
            "text/plain": [
              "(301, 9)"
            ]
          },
          "metadata": {
            "tags": []
          },
          "execution_count": 42
        }
      ]
    },
    {
      "cell_type": "code",
      "metadata": {
        "colab": {
          "base_uri": "https://localhost:8080/"
        },
        "id": "fe07KeK3KMpy",
        "outputId": "c41fa3ab-5059-40a5-8beb-9b2c948a217c"
      },
      "source": [
        "### checking the null values\n",
        "car.isnull().sum()"
      ],
      "execution_count": 43,
      "outputs": [
        {
          "output_type": "execute_result",
          "data": {
            "text/plain": [
              "Car_Name         0\n",
              "Year             0\n",
              "Selling_Price    0\n",
              "Present_Price    0\n",
              "Kms_Driven       0\n",
              "Fuel_Type        0\n",
              "Seller_Type      0\n",
              "Transmission     0\n",
              "Owner            0\n",
              "dtype: int64"
            ]
          },
          "metadata": {
            "tags": []
          },
          "execution_count": 43
        }
      ]
    },
    {
      "cell_type": "code",
      "metadata": {
        "colab": {
          "base_uri": "https://localhost:8080/"
        },
        "id": "GZ81NkpkKw0r",
        "outputId": "9e602cc4-824d-4d2d-ec6b-8bcc6ca925d9"
      },
      "source": [
        "car.info()"
      ],
      "execution_count": 44,
      "outputs": [
        {
          "output_type": "stream",
          "text": [
            "<class 'pandas.core.frame.DataFrame'>\n",
            "RangeIndex: 301 entries, 0 to 300\n",
            "Data columns (total 9 columns):\n",
            " #   Column         Non-Null Count  Dtype  \n",
            "---  ------         --------------  -----  \n",
            " 0   Car_Name       301 non-null    object \n",
            " 1   Year           301 non-null    int64  \n",
            " 2   Selling_Price  301 non-null    float64\n",
            " 3   Present_Price  301 non-null    float64\n",
            " 4   Kms_Driven     301 non-null    int64  \n",
            " 5   Fuel_Type      301 non-null    object \n",
            " 6   Seller_Type    301 non-null    object \n",
            " 7   Transmission   301 non-null    object \n",
            " 8   Owner          301 non-null    int64  \n",
            "dtypes: float64(2), int64(3), object(4)\n",
            "memory usage: 21.3+ KB\n"
          ],
          "name": "stdout"
        }
      ]
    },
    {
      "cell_type": "code",
      "metadata": {
        "colab": {
          "base_uri": "https://localhost:8080/",
          "height": 284
        },
        "id": "lQzLMEWfK0yY",
        "outputId": "942f994e-c293-4f6c-8a42-81265404fadb"
      },
      "source": [
        "car.describe()"
      ],
      "execution_count": 45,
      "outputs": [
        {
          "output_type": "execute_result",
          "data": {
            "text/html": [
              "<div>\n",
              "<style scoped>\n",
              "    .dataframe tbody tr th:only-of-type {\n",
              "        vertical-align: middle;\n",
              "    }\n",
              "\n",
              "    .dataframe tbody tr th {\n",
              "        vertical-align: top;\n",
              "    }\n",
              "\n",
              "    .dataframe thead th {\n",
              "        text-align: right;\n",
              "    }\n",
              "</style>\n",
              "<table border=\"1\" class=\"dataframe\">\n",
              "  <thead>\n",
              "    <tr style=\"text-align: right;\">\n",
              "      <th></th>\n",
              "      <th>Year</th>\n",
              "      <th>Selling_Price</th>\n",
              "      <th>Present_Price</th>\n",
              "      <th>Kms_Driven</th>\n",
              "      <th>Owner</th>\n",
              "    </tr>\n",
              "  </thead>\n",
              "  <tbody>\n",
              "    <tr>\n",
              "      <th>count</th>\n",
              "      <td>301.000000</td>\n",
              "      <td>301.000000</td>\n",
              "      <td>301.000000</td>\n",
              "      <td>301.000000</td>\n",
              "      <td>301.000000</td>\n",
              "    </tr>\n",
              "    <tr>\n",
              "      <th>mean</th>\n",
              "      <td>2013.627907</td>\n",
              "      <td>4.661296</td>\n",
              "      <td>7.628472</td>\n",
              "      <td>36947.205980</td>\n",
              "      <td>0.043189</td>\n",
              "    </tr>\n",
              "    <tr>\n",
              "      <th>std</th>\n",
              "      <td>2.891554</td>\n",
              "      <td>5.082812</td>\n",
              "      <td>8.644115</td>\n",
              "      <td>38886.883882</td>\n",
              "      <td>0.247915</td>\n",
              "    </tr>\n",
              "    <tr>\n",
              "      <th>min</th>\n",
              "      <td>2003.000000</td>\n",
              "      <td>0.100000</td>\n",
              "      <td>0.320000</td>\n",
              "      <td>500.000000</td>\n",
              "      <td>0.000000</td>\n",
              "    </tr>\n",
              "    <tr>\n",
              "      <th>25%</th>\n",
              "      <td>2012.000000</td>\n",
              "      <td>0.900000</td>\n",
              "      <td>1.200000</td>\n",
              "      <td>15000.000000</td>\n",
              "      <td>0.000000</td>\n",
              "    </tr>\n",
              "    <tr>\n",
              "      <th>50%</th>\n",
              "      <td>2014.000000</td>\n",
              "      <td>3.600000</td>\n",
              "      <td>6.400000</td>\n",
              "      <td>32000.000000</td>\n",
              "      <td>0.000000</td>\n",
              "    </tr>\n",
              "    <tr>\n",
              "      <th>75%</th>\n",
              "      <td>2016.000000</td>\n",
              "      <td>6.000000</td>\n",
              "      <td>9.900000</td>\n",
              "      <td>48767.000000</td>\n",
              "      <td>0.000000</td>\n",
              "    </tr>\n",
              "    <tr>\n",
              "      <th>max</th>\n",
              "      <td>2018.000000</td>\n",
              "      <td>35.000000</td>\n",
              "      <td>92.600000</td>\n",
              "      <td>500000.000000</td>\n",
              "      <td>3.000000</td>\n",
              "    </tr>\n",
              "  </tbody>\n",
              "</table>\n",
              "</div>"
            ],
            "text/plain": [
              "              Year  Selling_Price  Present_Price     Kms_Driven       Owner\n",
              "count   301.000000     301.000000     301.000000     301.000000  301.000000\n",
              "mean   2013.627907       4.661296       7.628472   36947.205980    0.043189\n",
              "std       2.891554       5.082812       8.644115   38886.883882    0.247915\n",
              "min    2003.000000       0.100000       0.320000     500.000000    0.000000\n",
              "25%    2012.000000       0.900000       1.200000   15000.000000    0.000000\n",
              "50%    2014.000000       3.600000       6.400000   32000.000000    0.000000\n",
              "75%    2016.000000       6.000000       9.900000   48767.000000    0.000000\n",
              "max    2018.000000      35.000000      92.600000  500000.000000    3.000000"
            ]
          },
          "metadata": {
            "tags": []
          },
          "execution_count": 45
        }
      ]
    },
    {
      "cell_type": "code",
      "metadata": {
        "colab": {
          "base_uri": "https://localhost:8080/",
          "height": 106
        },
        "id": "5V0ja-viNclh",
        "outputId": "77a9680a-f8d4-436d-da27-8b584c7c1441"
      },
      "source": [
        "car.head(2)"
      ],
      "execution_count": 46,
      "outputs": [
        {
          "output_type": "execute_result",
          "data": {
            "text/html": [
              "<div>\n",
              "<style scoped>\n",
              "    .dataframe tbody tr th:only-of-type {\n",
              "        vertical-align: middle;\n",
              "    }\n",
              "\n",
              "    .dataframe tbody tr th {\n",
              "        vertical-align: top;\n",
              "    }\n",
              "\n",
              "    .dataframe thead th {\n",
              "        text-align: right;\n",
              "    }\n",
              "</style>\n",
              "<table border=\"1\" class=\"dataframe\">\n",
              "  <thead>\n",
              "    <tr style=\"text-align: right;\">\n",
              "      <th></th>\n",
              "      <th>Car_Name</th>\n",
              "      <th>Year</th>\n",
              "      <th>Selling_Price</th>\n",
              "      <th>Present_Price</th>\n",
              "      <th>Kms_Driven</th>\n",
              "      <th>Fuel_Type</th>\n",
              "      <th>Seller_Type</th>\n",
              "      <th>Transmission</th>\n",
              "      <th>Owner</th>\n",
              "    </tr>\n",
              "  </thead>\n",
              "  <tbody>\n",
              "    <tr>\n",
              "      <th>0</th>\n",
              "      <td>ritz</td>\n",
              "      <td>2014</td>\n",
              "      <td>3.35</td>\n",
              "      <td>5.59</td>\n",
              "      <td>27000</td>\n",
              "      <td>Petrol</td>\n",
              "      <td>Dealer</td>\n",
              "      <td>Manual</td>\n",
              "      <td>0</td>\n",
              "    </tr>\n",
              "    <tr>\n",
              "      <th>1</th>\n",
              "      <td>sx4</td>\n",
              "      <td>2013</td>\n",
              "      <td>4.75</td>\n",
              "      <td>9.54</td>\n",
              "      <td>43000</td>\n",
              "      <td>Diesel</td>\n",
              "      <td>Dealer</td>\n",
              "      <td>Manual</td>\n",
              "      <td>0</td>\n",
              "    </tr>\n",
              "  </tbody>\n",
              "</table>\n",
              "</div>"
            ],
            "text/plain": [
              "  Car_Name  Year  Selling_Price  ...  Seller_Type  Transmission Owner\n",
              "0     ritz  2014           3.35  ...       Dealer        Manual     0\n",
              "1      sx4  2013           4.75  ...       Dealer        Manual     0\n",
              "\n",
              "[2 rows x 9 columns]"
            ]
          },
          "metadata": {
            "tags": []
          },
          "execution_count": 46
        }
      ]
    },
    {
      "cell_type": "code",
      "metadata": {
        "id": "qT_HQA3eMd5j"
      },
      "source": [
        "### seprating our categorical data\n",
        "a=[\"Fuel_Type\",\"Seller_Type\",\"Transmission\",\"Owner\"]"
      ],
      "execution_count": 47,
      "outputs": []
    },
    {
      "cell_type": "code",
      "metadata": {
        "colab": {
          "base_uri": "https://localhost:8080/"
        },
        "id": "mZCmkNoBNwsp",
        "outputId": "d19b8aa5-4050-41c7-9894-9c46b2d6cc49"
      },
      "source": [
        "for i in a:\n",
        "  print(car[i].unique())"
      ],
      "execution_count": 48,
      "outputs": [
        {
          "output_type": "stream",
          "text": [
            "['Petrol' 'Diesel' 'CNG']\n",
            "['Dealer' 'Individual']\n",
            "['Manual' 'Automatic']\n",
            "[0 1 3]\n"
          ],
          "name": "stdout"
        }
      ]
    },
    {
      "cell_type": "code",
      "metadata": {
        "id": "vXPNrQfdOY-w"
      },
      "source": [
        "#### we are just finalizing our dataset\n",
        "### creating one column where i am adding a current year as 2021\n",
        "car[\"new_year\"]=2021"
      ],
      "execution_count": 49,
      "outputs": []
    },
    {
      "cell_type": "code",
      "metadata": {
        "colab": {
          "base_uri": "https://localhost:8080/",
          "height": 106
        },
        "id": "BO0eye8BPSy1",
        "outputId": "8abacfdd-407a-41f8-9739-fb2f3b27e282"
      },
      "source": [
        "car.head(2)"
      ],
      "execution_count": 50,
      "outputs": [
        {
          "output_type": "execute_result",
          "data": {
            "text/html": [
              "<div>\n",
              "<style scoped>\n",
              "    .dataframe tbody tr th:only-of-type {\n",
              "        vertical-align: middle;\n",
              "    }\n",
              "\n",
              "    .dataframe tbody tr th {\n",
              "        vertical-align: top;\n",
              "    }\n",
              "\n",
              "    .dataframe thead th {\n",
              "        text-align: right;\n",
              "    }\n",
              "</style>\n",
              "<table border=\"1\" class=\"dataframe\">\n",
              "  <thead>\n",
              "    <tr style=\"text-align: right;\">\n",
              "      <th></th>\n",
              "      <th>Car_Name</th>\n",
              "      <th>Year</th>\n",
              "      <th>Selling_Price</th>\n",
              "      <th>Present_Price</th>\n",
              "      <th>Kms_Driven</th>\n",
              "      <th>Fuel_Type</th>\n",
              "      <th>Seller_Type</th>\n",
              "      <th>Transmission</th>\n",
              "      <th>Owner</th>\n",
              "      <th>new_year</th>\n",
              "    </tr>\n",
              "  </thead>\n",
              "  <tbody>\n",
              "    <tr>\n",
              "      <th>0</th>\n",
              "      <td>ritz</td>\n",
              "      <td>2014</td>\n",
              "      <td>3.35</td>\n",
              "      <td>5.59</td>\n",
              "      <td>27000</td>\n",
              "      <td>Petrol</td>\n",
              "      <td>Dealer</td>\n",
              "      <td>Manual</td>\n",
              "      <td>0</td>\n",
              "      <td>2021</td>\n",
              "    </tr>\n",
              "    <tr>\n",
              "      <th>1</th>\n",
              "      <td>sx4</td>\n",
              "      <td>2013</td>\n",
              "      <td>4.75</td>\n",
              "      <td>9.54</td>\n",
              "      <td>43000</td>\n",
              "      <td>Diesel</td>\n",
              "      <td>Dealer</td>\n",
              "      <td>Manual</td>\n",
              "      <td>0</td>\n",
              "      <td>2021</td>\n",
              "    </tr>\n",
              "  </tbody>\n",
              "</table>\n",
              "</div>"
            ],
            "text/plain": [
              "  Car_Name  Year  Selling_Price  ...  Transmission  Owner new_year\n",
              "0     ritz  2014           3.35  ...        Manual      0     2021\n",
              "1      sx4  2013           4.75  ...        Manual      0     2021\n",
              "\n",
              "[2 rows x 10 columns]"
            ]
          },
          "metadata": {
            "tags": []
          },
          "execution_count": 50
        }
      ]
    },
    {
      "cell_type": "code",
      "metadata": {
        "id": "V_KGiN6qPUrR"
      },
      "source": [
        "### now subtracting the year of purchased of car from new year to find out the no of years of car\n",
        "car[\"car_old\"]=car[\"new_year\"]-car[\"Year\"]"
      ],
      "execution_count": 51,
      "outputs": []
    },
    {
      "cell_type": "code",
      "metadata": {
        "colab": {
          "base_uri": "https://localhost:8080/",
          "height": 106
        },
        "id": "tW9ZjdiiPw1q",
        "outputId": "c54c5d82-ddf4-4ae4-f406-6e65260bf0e4"
      },
      "source": [
        "car.head(2)"
      ],
      "execution_count": 52,
      "outputs": [
        {
          "output_type": "execute_result",
          "data": {
            "text/html": [
              "<div>\n",
              "<style scoped>\n",
              "    .dataframe tbody tr th:only-of-type {\n",
              "        vertical-align: middle;\n",
              "    }\n",
              "\n",
              "    .dataframe tbody tr th {\n",
              "        vertical-align: top;\n",
              "    }\n",
              "\n",
              "    .dataframe thead th {\n",
              "        text-align: right;\n",
              "    }\n",
              "</style>\n",
              "<table border=\"1\" class=\"dataframe\">\n",
              "  <thead>\n",
              "    <tr style=\"text-align: right;\">\n",
              "      <th></th>\n",
              "      <th>Car_Name</th>\n",
              "      <th>Year</th>\n",
              "      <th>Selling_Price</th>\n",
              "      <th>Present_Price</th>\n",
              "      <th>Kms_Driven</th>\n",
              "      <th>Fuel_Type</th>\n",
              "      <th>Seller_Type</th>\n",
              "      <th>Transmission</th>\n",
              "      <th>Owner</th>\n",
              "      <th>new_year</th>\n",
              "      <th>car_old</th>\n",
              "    </tr>\n",
              "  </thead>\n",
              "  <tbody>\n",
              "    <tr>\n",
              "      <th>0</th>\n",
              "      <td>ritz</td>\n",
              "      <td>2014</td>\n",
              "      <td>3.35</td>\n",
              "      <td>5.59</td>\n",
              "      <td>27000</td>\n",
              "      <td>Petrol</td>\n",
              "      <td>Dealer</td>\n",
              "      <td>Manual</td>\n",
              "      <td>0</td>\n",
              "      <td>2021</td>\n",
              "      <td>7</td>\n",
              "    </tr>\n",
              "    <tr>\n",
              "      <th>1</th>\n",
              "      <td>sx4</td>\n",
              "      <td>2013</td>\n",
              "      <td>4.75</td>\n",
              "      <td>9.54</td>\n",
              "      <td>43000</td>\n",
              "      <td>Diesel</td>\n",
              "      <td>Dealer</td>\n",
              "      <td>Manual</td>\n",
              "      <td>0</td>\n",
              "      <td>2021</td>\n",
              "      <td>8</td>\n",
              "    </tr>\n",
              "  </tbody>\n",
              "</table>\n",
              "</div>"
            ],
            "text/plain": [
              "  Car_Name  Year  Selling_Price  ...  Owner  new_year car_old\n",
              "0     ritz  2014           3.35  ...      0      2021       7\n",
              "1      sx4  2013           4.75  ...      0      2021       8\n",
              "\n",
              "[2 rows x 11 columns]"
            ]
          },
          "metadata": {
            "tags": []
          },
          "execution_count": 52
        }
      ]
    },
    {
      "cell_type": "code",
      "metadata": {
        "colab": {
          "base_uri": "https://localhost:8080/"
        },
        "id": "k-B1tQTlPyVi",
        "outputId": "0be1bc04-27a7-4179-9cae-ed9f6e7e9569"
      },
      "source": [
        "car.shape"
      ],
      "execution_count": 53,
      "outputs": [
        {
          "output_type": "execute_result",
          "data": {
            "text/plain": [
              "(301, 11)"
            ]
          },
          "metadata": {
            "tags": []
          },
          "execution_count": 53
        }
      ]
    },
    {
      "cell_type": "code",
      "metadata": {
        "id": "HNoukU2jP4Kb"
      },
      "source": [
        "#### now we can drop car_ name, new_year\n",
        "del car[\"Car_Name\"]\n",
        "del car[\"new_year\"]         #### we can aslo use  car= car.drop[\"new_year\",\"Car_Name\",axis=1]"
      ],
      "execution_count": 54,
      "outputs": []
    },
    {
      "cell_type": "code",
      "metadata": {
        "colab": {
          "base_uri": "https://localhost:8080/"
        },
        "id": "jSsKlaxGQPh6",
        "outputId": "f4888e88-b722-465b-d6f5-43282932adf1"
      },
      "source": [
        "car.shape"
      ],
      "execution_count": 55,
      "outputs": [
        {
          "output_type": "execute_result",
          "data": {
            "text/plain": [
              "(301, 9)"
            ]
          },
          "metadata": {
            "tags": []
          },
          "execution_count": 55
        }
      ]
    },
    {
      "cell_type": "code",
      "metadata": {
        "id": "EZYrN7XyQRLr"
      },
      "source": [
        "## we can aslo drop year\n",
        "del car[\"Year\"]"
      ],
      "execution_count": 56,
      "outputs": []
    },
    {
      "cell_type": "code",
      "metadata": {
        "colab": {
          "base_uri": "https://localhost:8080/"
        },
        "id": "IgeQGfw-Q6J5",
        "outputId": "5f8d8c7b-d2f2-44b1-e5d1-3a717da4a7a8"
      },
      "source": [
        "### now checking the shape of the car\n",
        "car.shape"
      ],
      "execution_count": 57,
      "outputs": [
        {
          "output_type": "execute_result",
          "data": {
            "text/plain": [
              "(301, 8)"
            ]
          },
          "metadata": {
            "tags": []
          },
          "execution_count": 57
        }
      ]
    },
    {
      "cell_type": "code",
      "metadata": {
        "id": "nCezmPB_Q-W_"
      },
      "source": [
        "###  converting categorical data into one hot encoding\n",
        "car=pd.get_dummies(car,drop_first=True)"
      ],
      "execution_count": 58,
      "outputs": []
    },
    {
      "cell_type": "code",
      "metadata": {
        "colab": {
          "base_uri": "https://localhost:8080/",
          "height": 106
        },
        "id": "IqvyutyQRasx",
        "outputId": "b3704371-051e-44ce-dda6-10a6e3285348"
      },
      "source": [
        "car.head(2)"
      ],
      "execution_count": 59,
      "outputs": [
        {
          "output_type": "execute_result",
          "data": {
            "text/html": [
              "<div>\n",
              "<style scoped>\n",
              "    .dataframe tbody tr th:only-of-type {\n",
              "        vertical-align: middle;\n",
              "    }\n",
              "\n",
              "    .dataframe tbody tr th {\n",
              "        vertical-align: top;\n",
              "    }\n",
              "\n",
              "    .dataframe thead th {\n",
              "        text-align: right;\n",
              "    }\n",
              "</style>\n",
              "<table border=\"1\" class=\"dataframe\">\n",
              "  <thead>\n",
              "    <tr style=\"text-align: right;\">\n",
              "      <th></th>\n",
              "      <th>Selling_Price</th>\n",
              "      <th>Present_Price</th>\n",
              "      <th>Kms_Driven</th>\n",
              "      <th>Owner</th>\n",
              "      <th>car_old</th>\n",
              "      <th>Fuel_Type_Diesel</th>\n",
              "      <th>Fuel_Type_Petrol</th>\n",
              "      <th>Seller_Type_Individual</th>\n",
              "      <th>Transmission_Manual</th>\n",
              "    </tr>\n",
              "  </thead>\n",
              "  <tbody>\n",
              "    <tr>\n",
              "      <th>0</th>\n",
              "      <td>3.35</td>\n",
              "      <td>5.59</td>\n",
              "      <td>27000</td>\n",
              "      <td>0</td>\n",
              "      <td>7</td>\n",
              "      <td>0</td>\n",
              "      <td>1</td>\n",
              "      <td>0</td>\n",
              "      <td>1</td>\n",
              "    </tr>\n",
              "    <tr>\n",
              "      <th>1</th>\n",
              "      <td>4.75</td>\n",
              "      <td>9.54</td>\n",
              "      <td>43000</td>\n",
              "      <td>0</td>\n",
              "      <td>8</td>\n",
              "      <td>1</td>\n",
              "      <td>0</td>\n",
              "      <td>0</td>\n",
              "      <td>1</td>\n",
              "    </tr>\n",
              "  </tbody>\n",
              "</table>\n",
              "</div>"
            ],
            "text/plain": [
              "   Selling_Price  Present_Price  ...  Seller_Type_Individual  Transmission_Manual\n",
              "0           3.35           5.59  ...                       0                    1\n",
              "1           4.75           9.54  ...                       0                    1\n",
              "\n",
              "[2 rows x 9 columns]"
            ]
          },
          "metadata": {
            "tags": []
          },
          "execution_count": 59
        }
      ]
    },
    {
      "cell_type": "code",
      "metadata": {
        "colab": {
          "base_uri": "https://localhost:8080/"
        },
        "id": "zg5H3EssRmAW",
        "outputId": "1018bbc0-87d2-49d8-d714-e5cc7a4fa64f"
      },
      "source": [
        "car.shape"
      ],
      "execution_count": 60,
      "outputs": [
        {
          "output_type": "execute_result",
          "data": {
            "text/plain": [
              "(301, 9)"
            ]
          },
          "metadata": {
            "tags": []
          },
          "execution_count": 60
        }
      ]
    },
    {
      "cell_type": "code",
      "metadata": {
        "colab": {
          "base_uri": "https://localhost:8080/",
          "height": 77
        },
        "id": "xcVV4_ZCRrA-",
        "outputId": "609ff0cf-b801-4ab5-db29-d15cd0477360"
      },
      "source": [
        "car[car[\"Owner\"]==3]"
      ],
      "execution_count": 62,
      "outputs": [
        {
          "output_type": "execute_result",
          "data": {
            "text/html": [
              "<div>\n",
              "<style scoped>\n",
              "    .dataframe tbody tr th:only-of-type {\n",
              "        vertical-align: middle;\n",
              "    }\n",
              "\n",
              "    .dataframe tbody tr th {\n",
              "        vertical-align: top;\n",
              "    }\n",
              "\n",
              "    .dataframe thead th {\n",
              "        text-align: right;\n",
              "    }\n",
              "</style>\n",
              "<table border=\"1\" class=\"dataframe\">\n",
              "  <thead>\n",
              "    <tr style=\"text-align: right;\">\n",
              "      <th></th>\n",
              "      <th>Selling_Price</th>\n",
              "      <th>Present_Price</th>\n",
              "      <th>Kms_Driven</th>\n",
              "      <th>Owner</th>\n",
              "      <th>car_old</th>\n",
              "      <th>Fuel_Type_Diesel</th>\n",
              "      <th>Fuel_Type_Petrol</th>\n",
              "      <th>Seller_Type_Individual</th>\n",
              "      <th>Transmission_Manual</th>\n",
              "    </tr>\n",
              "  </thead>\n",
              "  <tbody>\n",
              "    <tr>\n",
              "      <th>85</th>\n",
              "      <td>2.5</td>\n",
              "      <td>23.73</td>\n",
              "      <td>142000</td>\n",
              "      <td>3</td>\n",
              "      <td>15</td>\n",
              "      <td>0</td>\n",
              "      <td>1</td>\n",
              "      <td>1</td>\n",
              "      <td>0</td>\n",
              "    </tr>\n",
              "  </tbody>\n",
              "</table>\n",
              "</div>"
            ],
            "text/plain": [
              "    Selling_Price  Present_Price  ...  Seller_Type_Individual  Transmission_Manual\n",
              "85            2.5          23.73  ...                       1                    0\n",
              "\n",
              "[1 rows x 9 columns]"
            ]
          },
          "metadata": {
            "tags": []
          },
          "execution_count": 62
        }
      ]
    },
    {
      "cell_type": "code",
      "metadata": {
        "colab": {
          "base_uri": "https://localhost:8080/",
          "height": 1000
        },
        "id": "jvSAkhzETp6Q",
        "outputId": "191f55aa-6f46-41a3-a986-ba639df2b220"
      },
      "source": [
        "#### to check the visualisation\n",
        "sns.pairplot(car)"
      ],
      "execution_count": 63,
      "outputs": [
        {
          "output_type": "execute_result",
          "data": {
            "text/plain": [
              "<seaborn.axisgrid.PairGrid at 0x7f4b14ba2e10>"
            ]
          },
          "metadata": {
            "tags": []
          },
          "execution_count": 63
        },
        {
          "output_type": "display_data",
          "data": {
            "image/png": "[encoded data removed]",
            "text/plain": [
              "<Figure size 1620x1620 with 90 Axes>"
            ]
          },
          "metadata": {
            "tags": [],
            "needs_background": "light"
          }
        }
      ]
    },
    {
      "cell_type": "code",
      "metadata": {
        "colab": {
          "base_uri": "https://localhost:8080/",
          "height": 106
        },
        "id": "CledQnc2V58t",
        "outputId": "6467cc33-f0cb-48ed-d5c1-b6497a1002e9"
      },
      "source": [
        "car.head(2)"
      ],
      "execution_count": 64,
      "outputs": [
        {
          "output_type": "execute_result",
          "data": {
            "text/html": [
              "<div>\n",
              "<style scoped>\n",
              "    .dataframe tbody tr th:only-of-type {\n",
              "        vertical-align: middle;\n",
              "    }\n",
              "\n",
              "    .dataframe tbody tr th {\n",
              "        vertical-align: top;\n",
              "    }\n",
              "\n",
              "    .dataframe thead th {\n",
              "        text-align: right;\n",
              "    }\n",
              "</style>\n",
              "<table border=\"1\" class=\"dataframe\">\n",
              "  <thead>\n",
              "    <tr style=\"text-align: right;\">\n",
              "      <th></th>\n",
              "      <th>Selling_Price</th>\n",
              "      <th>Present_Price</th>\n",
              "      <th>Kms_Driven</th>\n",
              "      <th>Owner</th>\n",
              "      <th>car_old</th>\n",
              "      <th>Fuel_Type_Diesel</th>\n",
              "      <th>Fuel_Type_Petrol</th>\n",
              "      <th>Seller_Type_Individual</th>\n",
              "      <th>Transmission_Manual</th>\n",
              "    </tr>\n",
              "  </thead>\n",
              "  <tbody>\n",
              "    <tr>\n",
              "      <th>0</th>\n",
              "      <td>3.35</td>\n",
              "      <td>5.59</td>\n",
              "      <td>27000</td>\n",
              "      <td>0</td>\n",
              "      <td>7</td>\n",
              "      <td>0</td>\n",
              "      <td>1</td>\n",
              "      <td>0</td>\n",
              "      <td>1</td>\n",
              "    </tr>\n",
              "    <tr>\n",
              "      <th>1</th>\n",
              "      <td>4.75</td>\n",
              "      <td>9.54</td>\n",
              "      <td>43000</td>\n",
              "      <td>0</td>\n",
              "      <td>8</td>\n",
              "      <td>1</td>\n",
              "      <td>0</td>\n",
              "      <td>0</td>\n",
              "      <td>1</td>\n",
              "    </tr>\n",
              "  </tbody>\n",
              "</table>\n",
              "</div>"
            ],
            "text/plain": [
              "   Selling_Price  Present_Price  ...  Seller_Type_Individual  Transmission_Manual\n",
              "0           3.35           5.59  ...                       0                    1\n",
              "1           4.75           9.54  ...                       0                    1\n",
              "\n",
              "[2 rows x 9 columns]"
            ]
          },
          "metadata": {
            "tags": []
          },
          "execution_count": 64
        }
      ]
    },
    {
      "cell_type": "code",
      "metadata": {
        "id": "8GW525TuUAhg"
      },
      "source": [
        "####  now separating our dependent and independent features\n",
        "X=car.iloc[:,1:].values\n",
        "y=car[\"Selling_Price\"].values"
      ],
      "execution_count": 72,
      "outputs": []
    },
    {
      "cell_type": "code",
      "metadata": {
        "colab": {
          "base_uri": "https://localhost:8080/"
        },
        "id": "DQkonsM0WZcx",
        "outputId": "bb5f58e2-1d92-4e18-a5c2-182bb598fdf3"
      },
      "source": [
        "X.shape,y.shape"
      ],
      "execution_count": 73,
      "outputs": [
        {
          "output_type": "execute_result",
          "data": {
            "text/plain": [
              "((301, 8), (301,))"
            ]
          },
          "metadata": {
            "tags": []
          },
          "execution_count": 73
        }
      ]
    },
    {
      "cell_type": "code",
      "metadata": {
        "id": "zxzAUHNLWfJM"
      },
      "source": [
        "#### now its time for train and test splitting of our dataset\n",
        "from sklearn.model_selection import train_test_split\n",
        "X_train,X_test,y_train,y_test=train_test_split(X,y,test_size=0.2,random_state=42)"
      ],
      "execution_count": 110,
      "outputs": []
    },
    {
      "cell_type": "code",
      "metadata": {
        "id": "nJGZzyGCWoDZ"
      },
      "source": [
        "from sklearn.ensemble import RandomForestRegressor                   ##### in random forest scaling and outlier is not mandatory \n",
        "reg=RandomForestRegressor()"
      ],
      "execution_count": 111,
      "outputs": []
    },
    {
      "cell_type": "code",
      "metadata": {
        "colab": {
          "base_uri": "https://localhost:8080/"
        },
        "id": "Z7vzN7Xcb3sN",
        "outputId": "4232d83f-8ecb-47ad-d23f-57af9b01e25b"
      },
      "source": [
        "reg.fit(X_train,y_train)           ####3 fitting our model in random forest regressor"
      ],
      "execution_count": 112,
      "outputs": [
        {
          "output_type": "execute_result",
          "data": {
            "text/plain": [
              "RandomForestRegressor(bootstrap=True, ccp_alpha=0.0, criterion='mse',\n",
              "                      max_depth=None, max_features='auto', max_leaf_nodes=None,\n",
              "                      max_samples=None, min_impurity_decrease=0.0,\n",
              "                      min_impurity_split=None, min_samples_leaf=1,\n",
              "                      min_samples_split=2, min_weight_fraction_leaf=0.0,\n",
              "                      n_estimators=100, n_jobs=None, oob_score=False,\n",
              "                      random_state=None, verbose=0, warm_start=False)"
            ]
          },
          "metadata": {
            "tags": []
          },
          "execution_count": 112
        }
      ]
    },
    {
      "cell_type": "code",
      "metadata": {
        "id": "64aabBybcJT8"
      },
      "source": [
        "###predicting the price of X_test\n",
        "\n",
        "y_pred=reg.predict(X_test)"
      ],
      "execution_count": 113,
      "outputs": []
    },
    {
      "cell_type": "code",
      "metadata": {
        "colab": {
          "base_uri": "https://localhost:8080/"
        },
        "id": "ft3LyBl6cldj",
        "outputId": "de894583-8bf3-4211-a49e-8a08166ad8c3"
      },
      "source": [
        "y_pred"
      ],
      "execution_count": 114,
      "outputs": [
        {
          "output_type": "execute_result",
          "data": {
            "text/plain": [
              "array([ 0.4364, 10.666 ,  5.0445,  0.2143,  7.4591,  6.105 ,  1.086 ,\n",
              "        0.5985,  0.4648,  6.7005,  7.7679,  1.0962,  8.1187,  0.4536,\n",
              "        5.3615,  2.678 ,  1.1565, 14.1593,  0.4685,  1.5575,  0.3637,\n",
              "        8.1642,  4.707 ,  2.7505,  0.5067,  3.557 ,  5.2295,  3.1405,\n",
              "        1.2386,  1.1661,  0.4252, 10.0485,  0.45  ,  2.5435,  7.7559,\n",
              "        4.2395,  6.0929,  6.268 ,  2.6655,  6.3558,  4.1478,  3.4277,\n",
              "        4.8425,  0.5696,  5.9855,  0.7357,  8.2905,  6.421 ,  2.8845,\n",
              "        3.6785,  4.898 ,  1.487 , 21.8641, 20.5364,  6.305 , 10.2825,\n",
              "        5.037 ,  8.7691,  2.6245,  6.6834,  0.2498])"
            ]
          },
          "metadata": {
            "tags": []
          },
          "execution_count": 114
        }
      ]
    },
    {
      "cell_type": "code",
      "metadata": {
        "colab": {
          "base_uri": "https://localhost:8080/",
          "height": 335
        },
        "id": "J6f73o1Lcnqc",
        "outputId": "85321b19-2241-4abf-8d56-ca7a7137296b"
      },
      "source": [
        "###### checking the distributios between y_test and y_pred\n",
        "sns.distplot(y_test-y_pred)"
      ],
      "execution_count": 115,
      "outputs": [
        {
          "output_type": "stream",
          "text": [
            "/usr/local/lib/python3.7/dist-packages/seaborn/distributions.py:2557: FutureWarning: `distplot` is a deprecated function and will be removed in a future version. Please adapt your code to use either `displot` (a figure-level function with similar flexibility) or `histplot` (an axes-level function for histograms).\n",
            "  warnings.warn(msg, FutureWarning)\n"
          ],
          "name": "stderr"
        },
        {
          "output_type": "execute_result",
          "data": {
            "text/plain": [
              "<matplotlib.axes._subplots.AxesSubplot at 0x7f4b00375ad0>"
            ]
          },
          "metadata": {
            "tags": []
          },
          "execution_count": 115
        },
        {
          "output_type": "display_data",
          "data": {
            "image/png": "[encoded data removed]",
            "text/plain": [
              "<Figure size 432x288 with 1 Axes>"
            ]
          },
          "metadata": {
            "tags": [],
            "needs_background": "light"
          }
        }
      ]
    },
    {
      "cell_type": "code",
      "metadata": {
        "id": "bmz4HJ0mdS1D"
      },
      "source": [
        "#### now checking the accuracy :::: in regression accuracy is checked in mae,mse,rmse, r2\n",
        "from sklearn.metrics import mean_absolute_error,mean_squared_error,r2_score"
      ],
      "execution_count": 116,
      "outputs": []
    },
    {
      "cell_type": "code",
      "metadata": {
        "colab": {
          "base_uri": "https://localhost:8080/"
        },
        "id": "aEuWcfe7jRwH",
        "outputId": "7fb8217f-8ec6-4819-c403-9b4056a1c027"
      },
      "source": [
        "r2_score(y_test,y_pred)               ###### by varying test size and random state this accuracy will vary"
      ],
      "execution_count": 117,
      "outputs": [
        {
          "output_type": "execute_result",
          "data": {
            "text/plain": [
              "0.9613390462089606"
            ]
          },
          "metadata": {
            "tags": []
          },
          "execution_count": 117
        }
      ]
    },
    {
      "cell_type": "code",
      "metadata": {
        "colab": {
          "base_uri": "https://localhost:8080/"
        },
        "id": "J8Ua2i96jWef",
        "outputId": "e8f52a86-c0ef-4b72-dfd6-f4b49483d23d"
      },
      "source": [
        "mean_absolute_error(y_test, y_pred)"
      ],
      "execution_count": 118,
      "outputs": [
        {
          "output_type": "execute_result",
          "data": {
            "text/plain": [
              "0.624513114754099"
            ]
          },
          "metadata": {
            "tags": []
          },
          "execution_count": 118
        }
      ]
    },
    {
      "cell_type": "code",
      "metadata": {
        "colab": {
          "base_uri": "https://localhost:8080/"
        },
        "id": "IEaEpCxwjoqO",
        "outputId": "86fc1680-8691-48ab-fffe-6c5700409f6f"
      },
      "source": [
        "mean_squared_error(y_test,y_pred)"
      ],
      "execution_count": 119,
      "outputs": [
        {
          "output_type": "execute_result",
          "data": {
            "text/plain": [
              "0.8905776686885247"
            ]
          },
          "metadata": {
            "tags": []
          },
          "execution_count": 119
        }
      ]
    },
    {
      "cell_type": "code",
      "metadata": {
        "id": "tPI3taCTjt9E"
      },
      "source": [
        "##### now its time to do some hyper paramater tuning to increase the efficiency"
      ],
      "execution_count": 120,
      "outputs": []
    },
    {
      "cell_type": "code",
      "metadata": {
        "id": "9Sr6_c2gk3aE"
      },
      "source": [
        "from sklearn.model_selection import RandomizedSearchCV"
      ],
      "execution_count": 121,
      "outputs": []
    },
    {
      "cell_type": "code",
      "metadata": {
        "id": "P8OG21XxlX7y"
      },
      "source": [
        "random={\n",
        "    \"n_estimators\":[int(x) for x in np.linspace(start=90,stop=1300,num=12)],\n",
        "    \"max_depth\":[int(x) for x in np.linspace(5,30,num=16)],\n",
        "    \"max_features\":[\"auto\",\"sqrt\"],\n",
        "    \"min_samples_leaf\":[1,4,6,8],\n",
        "\n",
        "}"
      ],
      "execution_count": 126,
      "outputs": []
    },
    {
      "cell_type": "code",
      "metadata": {
        "id": "89w2ic0FpMkr"
      },
      "source": [
        "hyper_random= RandomizedSearchCV(estimator=reg,param_distributions=random,scoring=\"neg_mean_squared_error\",n_iter=10,cv=6,n_jobs=1,verbose=2,random_state=42)"
      ],
      "execution_count": 129,
      "outputs": []
    },
    {
      "cell_type": "code",
      "metadata": {
        "colab": {
          "base_uri": "https://localhost:8080/"
        },
        "id": "hKsEPGwTq6kp",
        "outputId": "c043c1dd-6988-4bbe-b1d2-d30040e8b7fb"
      },
      "source": [
        "hyper_random.fit(X_train,y_train)"
      ],
      "execution_count": 130,
      "outputs": [
        {
          "output_type": "stream",
          "text": [
            "Fitting 6 folds for each of 10 candidates, totalling 60 fits\n",
            "[CV] n_estimators=1190, min_samples_leaf=4, max_features=sqrt, max_depth=23 \n"
          ],
          "name": "stdout"
        },
        {
          "output_type": "stream",
          "text": [
            "[Parallel(n_jobs=1)]: Using backend SequentialBackend with 1 concurrent workers.\n"
          ],
          "name": "stderr"
        },
        {
          "output_type": "stream",
          "text": [
            "[CV]  n_estimators=1190, min_samples_leaf=4, max_features=sqrt, max_depth=23, total=   1.8s\n",
            "[CV] n_estimators=1190, min_samples_leaf=4, max_features=sqrt, max_depth=23 \n"
          ],
          "name": "stdout"
        },
        {
          "output_type": "stream",
          "text": [
            "[Parallel(n_jobs=1)]: Done   1 out of   1 | elapsed:    1.8s remaining:    0.0s\n"
          ],
          "name": "stderr"
        },
        {
          "output_type": "stream",
          "text": [
            "[CV]  n_estimators=1190, min_samples_leaf=4, max_features=sqrt, max_depth=23, total=   1.8s\n",
            "[CV] n_estimators=1190, min_samples_leaf=4, max_features=sqrt, max_depth=23 \n",
            "[CV]  n_estimators=1190, min_samples_leaf=4, max_features=sqrt, max_depth=23, total=   1.8s\n",
            "[CV] n_estimators=1190, min_samples_leaf=4, max_features=sqrt, max_depth=23 \n",
            "[CV]  n_estimators=1190, min_samples_leaf=4, max_features=sqrt, max_depth=23, total=   1.8s\n",
            "[CV] n_estimators=1190, min_samples_leaf=4, max_features=sqrt, max_depth=23 \n",
            "[CV]  n_estimators=1190, min_samples_leaf=4, max_features=sqrt, max_depth=23, total=   1.8s\n",
            "[CV] n_estimators=1190, min_samples_leaf=4, max_features=sqrt, max_depth=23 \n",
            "[CV]  n_estimators=1190, min_samples_leaf=4, max_features=sqrt, max_depth=23, total=   1.7s\n",
            "[CV] n_estimators=860, min_samples_leaf=4, max_features=auto, max_depth=30 \n",
            "[CV]  n_estimators=860, min_samples_leaf=4, max_features=auto, max_depth=30, total=   1.4s\n",
            "[CV] n_estimators=860, min_samples_leaf=4, max_features=auto, max_depth=30 \n",
            "[CV]  n_estimators=860, min_samples_leaf=4, max_features=auto, max_depth=30, total=   1.4s\n",
            "[CV] n_estimators=860, min_samples_leaf=4, max_features=auto, max_depth=30 \n",
            "[CV]  n_estimators=860, min_samples_leaf=4, max_features=auto, max_depth=30, total=   1.4s\n",
            "[CV] n_estimators=860, min_samples_leaf=4, max_features=auto, max_depth=30 \n",
            "[CV]  n_estimators=860, min_samples_leaf=4, max_features=auto, max_depth=30, total=   1.3s\n",
            "[CV] n_estimators=860, min_samples_leaf=4, max_features=auto, max_depth=30 \n",
            "[CV]  n_estimators=860, min_samples_leaf=4, max_features=auto, max_depth=30, total=   1.4s\n",
            "[CV] n_estimators=860, min_samples_leaf=4, max_features=auto, max_depth=30 \n",
            "[CV]  n_estimators=860, min_samples_leaf=4, max_features=auto, max_depth=30, total=   1.4s\n",
            "[CV] n_estimators=970, min_samples_leaf=8, max_features=sqrt, max_depth=18 \n",
            "[CV]  n_estimators=970, min_samples_leaf=8, max_features=sqrt, max_depth=18, total=   1.4s\n",
            "[CV] n_estimators=970, min_samples_leaf=8, max_features=sqrt, max_depth=18 \n",
            "[CV]  n_estimators=970, min_samples_leaf=8, max_features=sqrt, max_depth=18, total=   1.4s\n",
            "[CV] n_estimators=970, min_samples_leaf=8, max_features=sqrt, max_depth=18 \n",
            "[CV]  n_estimators=970, min_samples_leaf=8, max_features=sqrt, max_depth=18, total=   1.4s\n",
            "[CV] n_estimators=970, min_samples_leaf=8, max_features=sqrt, max_depth=18 \n",
            "[CV]  n_estimators=970, min_samples_leaf=8, max_features=sqrt, max_depth=18, total=   1.4s\n",
            "[CV] n_estimators=970, min_samples_leaf=8, max_features=sqrt, max_depth=18 \n",
            "[CV]  n_estimators=970, min_samples_leaf=8, max_features=sqrt, max_depth=18, total=   1.4s\n",
            "[CV] n_estimators=970, min_samples_leaf=8, max_features=sqrt, max_depth=18 \n",
            "[CV]  n_estimators=970, min_samples_leaf=8, max_features=sqrt, max_depth=18, total=   1.4s\n",
            "[CV] n_estimators=1190, min_samples_leaf=8, max_features=auto, max_depth=26 \n",
            "[CV]  n_estimators=1190, min_samples_leaf=8, max_features=auto, max_depth=26, total=   1.8s\n",
            "[CV] n_estimators=1190, min_samples_leaf=8, max_features=auto, max_depth=26 \n",
            "[CV]  n_estimators=1190, min_samples_leaf=8, max_features=auto, max_depth=26, total=   1.8s\n",
            "[CV] n_estimators=1190, min_samples_leaf=8, max_features=auto, max_depth=26 \n",
            "[CV]  n_estimators=1190, min_samples_leaf=8, max_features=auto, max_depth=26, total=   1.9s\n",
            "[CV] n_estimators=1190, min_samples_leaf=8, max_features=auto, max_depth=26 \n",
            "[CV]  n_estimators=1190, min_samples_leaf=8, max_features=auto, max_depth=26, total=   1.9s\n",
            "[CV] n_estimators=1190, min_samples_leaf=8, max_features=auto, max_depth=26 \n",
            "[CV]  n_estimators=1190, min_samples_leaf=8, max_features=auto, max_depth=26, total=   1.8s\n",
            "[CV] n_estimators=1190, min_samples_leaf=8, max_features=auto, max_depth=26 \n",
            "[CV]  n_estimators=1190, min_samples_leaf=8, max_features=auto, max_depth=26, total=   1.8s\n",
            "[CV] n_estimators=310, min_samples_leaf=6, max_features=sqrt, max_depth=23 \n",
            "[CV]  n_estimators=310, min_samples_leaf=6, max_features=sqrt, max_depth=23, total=   0.5s\n",
            "[CV] n_estimators=310, min_samples_leaf=6, max_features=sqrt, max_depth=23 \n",
            "[CV]  n_estimators=310, min_samples_leaf=6, max_features=sqrt, max_depth=23, total=   0.5s\n",
            "[CV] n_estimators=310, min_samples_leaf=6, max_features=sqrt, max_depth=23 \n",
            "[CV]  n_estimators=310, min_samples_leaf=6, max_features=sqrt, max_depth=23, total=   0.5s\n",
            "[CV] n_estimators=310, min_samples_leaf=6, max_features=sqrt, max_depth=23 \n",
            "[CV]  n_estimators=310, min_samples_leaf=6, max_features=sqrt, max_depth=23, total=   0.4s\n",
            "[CV] n_estimators=310, min_samples_leaf=6, max_features=sqrt, max_depth=23 \n",
            "[CV]  n_estimators=310, min_samples_leaf=6, max_features=sqrt, max_depth=23, total=   0.4s\n",
            "[CV] n_estimators=310, min_samples_leaf=6, max_features=sqrt, max_depth=23 \n",
            "[CV]  n_estimators=310, min_samples_leaf=6, max_features=sqrt, max_depth=23, total=   0.4s\n",
            "[CV] n_estimators=420, min_samples_leaf=8, max_features=auto, max_depth=23 \n",
            "[CV]  n_estimators=420, min_samples_leaf=8, max_features=auto, max_depth=23, total=   0.7s\n",
            "[CV] n_estimators=420, min_samples_leaf=8, max_features=auto, max_depth=23 \n",
            "[CV]  n_estimators=420, min_samples_leaf=8, max_features=auto, max_depth=23, total=   0.7s\n",
            "[CV] n_estimators=420, min_samples_leaf=8, max_features=auto, max_depth=23 \n",
            "[CV]  n_estimators=420, min_samples_leaf=8, max_features=auto, max_depth=23, total=   0.6s\n",
            "[CV] n_estimators=420, min_samples_leaf=8, max_features=auto, max_depth=23 \n",
            "[CV]  n_estimators=420, min_samples_leaf=8, max_features=auto, max_depth=23, total=   0.6s\n",
            "[CV] n_estimators=420, min_samples_leaf=8, max_features=auto, max_depth=23 \n",
            "[CV]  n_estimators=420, min_samples_leaf=8, max_features=auto, max_depth=23, total=   0.6s\n",
            "[CV] n_estimators=420, min_samples_leaf=8, max_features=auto, max_depth=23 \n",
            "[CV]  n_estimators=420, min_samples_leaf=8, max_features=auto, max_depth=23, total=   0.6s\n",
            "[CV] n_estimators=90, min_samples_leaf=8, max_features=sqrt, max_depth=21 \n",
            "[CV]  n_estimators=90, min_samples_leaf=8, max_features=sqrt, max_depth=21, total=   0.1s\n",
            "[CV] n_estimators=90, min_samples_leaf=8, max_features=sqrt, max_depth=21 \n",
            "[CV]  n_estimators=90, min_samples_leaf=8, max_features=sqrt, max_depth=21, total=   0.1s\n",
            "[CV] n_estimators=90, min_samples_leaf=8, max_features=sqrt, max_depth=21 \n",
            "[CV]  n_estimators=90, min_samples_leaf=8, max_features=sqrt, max_depth=21, total=   0.1s\n",
            "[CV] n_estimators=90, min_samples_leaf=8, max_features=sqrt, max_depth=21 \n",
            "[CV]  n_estimators=90, min_samples_leaf=8, max_features=sqrt, max_depth=21, total=   0.1s\n",
            "[CV] n_estimators=90, min_samples_leaf=8, max_features=sqrt, max_depth=21 \n",
            "[CV]  n_estimators=90, min_samples_leaf=8, max_features=sqrt, max_depth=21, total=   0.1s\n",
            "[CV] n_estimators=90, min_samples_leaf=8, max_features=sqrt, max_depth=21 \n",
            "[CV]  n_estimators=90, min_samples_leaf=8, max_features=sqrt, max_depth=21, total=   0.1s\n",
            "[CV] n_estimators=200, min_samples_leaf=6, max_features=auto, max_depth=6 \n",
            "[CV]  n_estimators=200, min_samples_leaf=6, max_features=auto, max_depth=6, total=   0.3s\n",
            "[CV] n_estimators=200, min_samples_leaf=6, max_features=auto, max_depth=6 \n",
            "[CV]  n_estimators=200, min_samples_leaf=6, max_features=auto, max_depth=6, total=   0.3s\n",
            "[CV] n_estimators=200, min_samples_leaf=6, max_features=auto, max_depth=6 \n",
            "[CV]  n_estimators=200, min_samples_leaf=6, max_features=auto, max_depth=6, total=   0.3s\n",
            "[CV] n_estimators=200, min_samples_leaf=6, max_features=auto, max_depth=6 \n",
            "[CV]  n_estimators=200, min_samples_leaf=6, max_features=auto, max_depth=6, total=   0.3s\n",
            "[CV] n_estimators=200, min_samples_leaf=6, max_features=auto, max_depth=6 \n",
            "[CV]  n_estimators=200, min_samples_leaf=6, max_features=auto, max_depth=6, total=   0.3s\n",
            "[CV] n_estimators=200, min_samples_leaf=6, max_features=auto, max_depth=6 \n",
            "[CV]  n_estimators=200, min_samples_leaf=6, max_features=auto, max_depth=6, total=   0.3s\n",
            "[CV] n_estimators=1190, min_samples_leaf=6, max_features=sqrt, max_depth=11 \n",
            "[CV]  n_estimators=1190, min_samples_leaf=6, max_features=sqrt, max_depth=11, total=   1.8s\n",
            "[CV] n_estimators=1190, min_samples_leaf=6, max_features=sqrt, max_depth=11 \n",
            "[CV]  n_estimators=1190, min_samples_leaf=6, max_features=sqrt, max_depth=11, total=   1.8s\n",
            "[CV] n_estimators=1190, min_samples_leaf=6, max_features=sqrt, max_depth=11 \n",
            "[CV]  n_estimators=1190, min_samples_leaf=6, max_features=sqrt, max_depth=11, total=   1.7s\n",
            "[CV] n_estimators=1190, min_samples_leaf=6, max_features=sqrt, max_depth=11 \n",
            "[CV]  n_estimators=1190, min_samples_leaf=6, max_features=sqrt, max_depth=11, total=   1.8s\n",
            "[CV] n_estimators=1190, min_samples_leaf=6, max_features=sqrt, max_depth=11 \n",
            "[CV]  n_estimators=1190, min_samples_leaf=6, max_features=sqrt, max_depth=11, total=   1.9s\n",
            "[CV] n_estimators=1190, min_samples_leaf=6, max_features=sqrt, max_depth=11 \n",
            "[CV]  n_estimators=1190, min_samples_leaf=6, max_features=sqrt, max_depth=11, total=   1.7s\n",
            "[CV] n_estimators=310, min_samples_leaf=8, max_features=sqrt, max_depth=25 \n",
            "[CV]  n_estimators=310, min_samples_leaf=8, max_features=sqrt, max_depth=25, total=   0.5s\n",
            "[CV] n_estimators=310, min_samples_leaf=8, max_features=sqrt, max_depth=25 \n",
            "[CV]  n_estimators=310, min_samples_leaf=8, max_features=sqrt, max_depth=25, total=   0.5s\n",
            "[CV] n_estimators=310, min_samples_leaf=8, max_features=sqrt, max_depth=25 \n",
            "[CV]  n_estimators=310, min_samples_leaf=8, max_features=sqrt, max_depth=25, total=   0.4s\n",
            "[CV] n_estimators=310, min_samples_leaf=8, max_features=sqrt, max_depth=25 \n",
            "[CV]  n_estimators=310, min_samples_leaf=8, max_features=sqrt, max_depth=25, total=   0.5s\n",
            "[CV] n_estimators=310, min_samples_leaf=8, max_features=sqrt, max_depth=25 \n",
            "[CV]  n_estimators=310, min_samples_leaf=8, max_features=sqrt, max_depth=25, total=   0.4s\n",
            "[CV] n_estimators=310, min_samples_leaf=8, max_features=sqrt, max_depth=25 \n",
            "[CV]  n_estimators=310, min_samples_leaf=8, max_features=sqrt, max_depth=25, total=   0.5s\n"
          ],
          "name": "stdout"
        },
        {
          "output_type": "stream",
          "text": [
            "[Parallel(n_jobs=1)]: Done  60 out of  60 | elapsed:  1.0min finished\n"
          ],
          "name": "stderr"
        },
        {
          "output_type": "execute_result",
          "data": {
            "text/plain": [
              "RandomizedSearchCV(cv=6, error_score=nan,\n",
              "                   estimator=RandomForestRegressor(bootstrap=True,\n",
              "                                                   ccp_alpha=0.0,\n",
              "                                                   criterion='mse',\n",
              "                                                   max_depth=None,\n",
              "                                                   max_features='auto',\n",
              "                                                   max_leaf_nodes=None,\n",
              "                                                   max_samples=None,\n",
              "                                                   min_impurity_decrease=0.0,\n",
              "                                                   min_impurity_split=None,\n",
              "                                                   min_samples_leaf=1,\n",
              "                                                   min_samples_split=2,\n",
              "                                                   min_weight_fraction_leaf=0.0,\n",
              "                                                   n_estimators=100,\n",
              "                                                   n_jobs=None, oob_score=Fals...\n",
              "                   iid='deprecated', n_iter=10, n_jobs=1,\n",
              "                   param_distributions={'max_depth': [5, 6, 8, 10, 11, 13, 15,\n",
              "                                                      16, 18, 20, 21, 23, 25,\n",
              "                                                      26, 28, 30],\n",
              "                                        'max_features': ['auto', 'sqrt'],\n",
              "                                        'min_samples_leaf': [1, 4, 6, 8],\n",
              "                                        'n_estimators': [90, 200, 310, 420, 530,\n",
              "                                                         640, 750, 860, 970,\n",
              "                                                         1080, 1190, 1300]},\n",
              "                   pre_dispatch='2*n_jobs', random_state=42, refit=True,\n",
              "                   return_train_score=False, scoring='neg_mean_squared_error',\n",
              "                   verbose=2)"
            ]
          },
          "metadata": {
            "tags": []
          },
          "execution_count": 130
        }
      ]
    },
    {
      "cell_type": "code",
      "metadata": {
        "colab": {
          "base_uri": "https://localhost:8080/"
        },
        "id": "MM6eT4dTrrqM",
        "outputId": "bc5be0ec-e7fe-4645-f01f-d944a6128f00"
      },
      "source": [
        "### finding out the best parameters\n",
        "\n",
        "hyper_random.best_params_"
      ],
      "execution_count": 131,
      "outputs": [
        {
          "output_type": "execute_result",
          "data": {
            "text/plain": [
              "{'max_depth': 30,\n",
              " 'max_features': 'auto',\n",
              " 'min_samples_leaf': 4,\n",
              " 'n_estimators': 860}"
            ]
          },
          "metadata": {
            "tags": []
          },
          "execution_count": 131
        }
      ]
    },
    {
      "cell_type": "code",
      "metadata": {
        "id": "6Hk5basctr6-"
      },
      "source": [
        "y_pred2=hyper_random.predict(X_test)"
      ],
      "execution_count": 132,
      "outputs": []
    },
    {
      "cell_type": "code",
      "metadata": {
        "colab": {
          "base_uri": "https://localhost:8080/"
        },
        "id": "quC7e-TTuCWc",
        "outputId": "ed08df98-9850-47d4-9ee6-1b89f98dc505"
      },
      "source": [
        "y_pred2"
      ],
      "execution_count": 133,
      "outputs": [
        {
          "output_type": "execute_result",
          "data": {
            "text/plain": [
              "array([ 0.38466737, 11.34227908,  4.76603654,  0.24986233,  7.61412713,\n",
              "        6.46961849,  1.06395272,  0.60665458,  0.4367161 ,  6.34011171,\n",
              "        7.95898999,  0.97240072,  7.96763649,  0.44964057,  5.16277886,\n",
              "        2.74868043,  1.11910261, 12.49408711,  0.44878053,  1.35285873,\n",
              "        0.32713798,  7.70312118,  4.72585826,  2.71833542,  0.5083157 ,\n",
              "        3.7657133 ,  5.21951774,  3.23430947,  1.1678699 ,  1.16853277,\n",
              "        0.39009141,  9.95026283,  0.44243169,  2.79610141,  7.87379582,\n",
              "        4.45835185,  5.72538871,  6.45230171,  2.62664001,  6.93971107,\n",
              "        4.88945112,  3.97312665,  4.96827395,  0.51459501,  6.33136551,\n",
              "        0.77754337,  9.0248716 ,  7.32013899,  2.94633348,  3.72412826,\n",
              "        5.07596503,  1.24277564, 22.18848458, 19.61187626,  6.63457075,\n",
              "       10.2416162 ,  5.05145394,  8.83983492,  2.84718329,  7.01893301,\n",
              "        0.25783435])"
            ]
          },
          "metadata": {
            "tags": []
          },
          "execution_count": 133
        }
      ]
    },
    {
      "cell_type": "code",
      "metadata": {
        "colab": {
          "base_uri": "https://localhost:8080/"
        },
        "id": "cdQfT2cCuEJT",
        "outputId": "c10a43f4-1b57-46cc-dbe5-1af1b559c233"
      },
      "source": [
        "#### now finding out the accuracy\n",
        "r2_score(y_test,y_pred2)"
      ],
      "execution_count": 134,
      "outputs": [
        {
          "output_type": "execute_result",
          "data": {
            "text/plain": [
              "0.9406331349255328"
            ]
          },
          "metadata": {
            "tags": []
          },
          "execution_count": 134
        }
      ]
    },
    {
      "cell_type": "code",
      "metadata": {
        "id": "LWLjr9pUuSK9"
      },
      "source": [
        "##### saving the file\n",
        "import pickle\n",
        "file=open(\"car_predictions.pkl\",\"wb\")\n",
        "pickle.dump(reg,file)"
      ],
      "execution_count": 135,
      "outputs": []
    },
    {
      "cell_type": "code",
      "metadata": {
        "colab": {
          "base_uri": "https://localhost:8080/",
          "height": 35
        },
        "id": "ASkXplWYvMiP",
        "outputId": "6805e08b-a721-435d-f07f-838855feb782"
      },
      "source": [
        "import os\n",
        "os.getcwd()"
      ],
      "execution_count": 136,
      "outputs": [
        {
          "output_type": "execute_result",
          "data": {
            "application/vnd.google.colaboratory.intrinsic+json": {
              "type": "string"
            },
            "text/plain": [
              "'/content'"
            ]
          },
          "metadata": {
            "tags": []
          },
          "execution_count": 136
        }
      ]
    },
    {
      "cell_type": "code",
      "metadata": {
        "id": "BSyAmiYLvdmU"
      },
      "source": [
        ""
      ],
      "execution_count": null,
      "outputs": []
    }
  ]
}